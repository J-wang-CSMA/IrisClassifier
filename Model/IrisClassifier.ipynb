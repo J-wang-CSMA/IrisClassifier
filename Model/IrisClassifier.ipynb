{
 "cells": [
  {
   "cell_type": "code",
   "execution_count": 46,
   "id": "67fb4111",
   "metadata": {},
   "outputs": [],
   "source": [
    "import numpy as np\n",
    "import os\n",
    "import pandas as pd\n",
    "import sklearn.model_selection as skmc\n",
    "import sklearn.svm as svm\n",
    "import sklearn.metrics as skmet\n",
    "from sklearn.svm import SVC\n",
    "from sklearn.preprocessing import StandardScaler\n",
    "from sklearn.decomposition import PCA\n",
    "from sklearn.tree import DecisionTreeClassifier\n",
    "from sklearn.neural_network import MLPClassifier"
   ]
  },
  {
   "cell_type": "code",
   "execution_count": 47,
   "metadata": {},
   "outputs": [],
   "source": [
    "directory = os.path.dirname(os.getcwd())\n",
    "iris_path = os.path.join(directory, 'Data/iris.data')\n",
    "iris_df = pd.read_csv(iris_path)\n",
    "features_df = iris_df.values[:, :-1]\n",
    "target_df = iris_df.values[:, -1:]"
   ]
  },
  {
   "cell_type": "code",
   "execution_count": 48,
   "metadata": {},
   "outputs": [
    {
     "data": {
      "text/plain": [
       "{'Iris-setosa': 49, 'Iris-versicolor': 50, 'Iris-virginica': 50}"
      ]
     },
     "metadata": {},
     "output_type": "display_data"
    }
   ],
   "source": [
    "classes, counts = np.unique(target_df, return_counts = True)\n",
    "distribution_of_classes = dict(zip(classes, counts))\n",
    "display(distribution_of_classes)"
   ]
  },
  {
   "cell_type": "code",
   "execution_count": 49,
   "metadata": {},
   "outputs": [],
   "source": [
    "def iris_gaussian_classifier(X, y):\n",
    "    X_train, X_test, y_train, y_test = skmc.train_test_split(X, y, test_size = 0.2)\n",
    "    iris_classifier = SVC(kernel = 'rbf')\n",
    "    iris_classifier.fit(X_train, y_train.ravel())\n",
    "    prediction = iris_classifier.predict(X_test)\n",
    "    accuracy = skmet.accuracy_score(y_test, prediction)\n",
    "    return prediction, accuracy"
   ]
  },
  {
   "cell_type": "code",
   "execution_count": 50,
   "metadata": {},
   "outputs": [],
   "source": [
    "def iris_decision_tree_classifier(X,y):\n",
    "    X_train, X_test, y_train, y_test = skmc.train_test_split(X, y, test_size = 0.2)\n",
    "    classifier = DecisionTreeClassifier()\n",
    "    classifier.fit(X_train, y_train)\n",
    "    prediction = classifier.predict(X_test)\n",
    "    accuracy = skmet.accuracy_score(y_test, prediction)\n",
    "    return prediction, accuracy"
   ]
  },
  {
   "cell_type": "code",
   "execution_count": 51,
   "id": "28eb43cb",
   "metadata": {},
   "outputs": [],
   "source": [
    "def iris_NN_classifier(X,y):\n",
    "    X_train, X_test, y_train, y_test = skmc.train_test_split(X, y, test_size = 0.2)\n",
    "    classifier = MLPClassifier(hidden_layer_sizes = (100,), max_iter = 1000)\n",
    "    classifier.fit(X_train, y_train.ravel())\n",
    "    prediction = classifier.predict(X_test)\n",
    "    accuracy = skmet.accuracy_score(y_test, prediction)\n",
    "    return prediction, accuracy"
   ]
  },
  {
   "cell_type": "code",
   "execution_count": 52,
   "metadata": {},
   "outputs": [],
   "source": [
    "#Data manipulation\n",
    "scalar = StandardScaler()\n",
    "pca = PCA()\n",
    "features_scaled = scalar.fit_transform(features_df)\n",
    "features_PCA = pca.fit_transform(features_df)\n",
    "features_scaled_PCA = pca.fit_transform(features_scaled)\n",
    "features_pca_scaled = scalar.fit_transform(features_PCA)\n",
    "features_scaled_df = pd.DataFrame(features_scaled)\n",
    "features_pca_df = pd.DataFrame(features_PCA)\n",
    "features_scaled_PCA_df = pd.DataFrame(features_scaled_PCA)\n",
    "features_PCA_scaled_df = pd.DataFrame(features_pca_scaled)"
   ]
  },
  {
   "cell_type": "code",
   "execution_count": 53,
   "metadata": {},
   "outputs": [],
   "source": [
    "def repeated_testing_tree(target):\n",
    "    count = 0\n",
    "    avg_ori = 0\n",
    "    avg_scaled = 0\n",
    "    avg_pca = 0\n",
    "    avg_scaled_and_pca = 0\n",
    "    avg_pca_and_scaled = 0\n",
    "    while (count < target):\n",
    "        _, acc = iris_decision_tree_classifier(features_df, target_df)\n",
    "        _, acc1 = iris_decision_tree_classifier(features_scaled_df, target_df)\n",
    "        _, acc2 = iris_decision_tree_classifier(features_pca_df, target_df)\n",
    "        _, acc3 = iris_decision_tree_classifier(features_scaled_PCA_df, target_df)\n",
    "        _, acc4 = iris_decision_tree_classifier(features_scaled_PCA_df, target_df)\n",
    "        avg_ori  = avg_ori + acc/target\n",
    "        avg_scaled = avg_scaled + acc1/target\n",
    "        avg_pca = avg_pca + acc2/target\n",
    "        avg_scaled_and_pca = avg_scaled_and_pca + acc3/target\n",
    "        avg_pca_and_scaled = avg_pca_and_scaled + acc4/target\n",
    "        count = count + 1\n",
    "    \n",
    "    print(avg_ori, avg_scaled, avg_pca, avg_scaled_and_pca, avg_pca_and_scaled)\n",
    "\n",
    "def repeated_testing_gaussian(target):\n",
    "    count = 0\n",
    "    avg_ori = 0\n",
    "    avg_scaled = 0\n",
    "    avg_pca = 0\n",
    "    avg_scaled_and_pca = 0\n",
    "    avg_pca_and_scaled = 0\n",
    "    while (count < target):\n",
    "        _, acc = iris_gaussian_classifier(features_df, target_df)\n",
    "        _, acc1 = iris_gaussian_classifier(features_scaled_df, target_df)\n",
    "        _, acc2 = iris_gaussian_classifier(features_pca_df, target_df)\n",
    "        _, acc3 = iris_gaussian_classifier(features_scaled_PCA_df, target_df)\n",
    "        _, acc4 = iris_gaussian_classifier(features_scaled_PCA_df, target_df)\n",
    "        avg_ori  = avg_ori + acc/target\n",
    "        avg_scaled = avg_scaled + acc1/target\n",
    "        avg_pca = avg_pca + acc2/target\n",
    "        avg_scaled_and_pca = avg_scaled_and_pca + acc3/target\n",
    "        avg_pca_and_scaled = avg_pca_and_scaled + acc4/target\n",
    "        count = count + 1\n",
    "    \n",
    "    print(avg_ori, avg_scaled, avg_pca, avg_scaled_and_pca, avg_pca_and_scaled)\n",
    "\n",
    "def repeated_testing_NN(target):\n",
    "    count = 0\n",
    "    avg_ori = 0\n",
    "    avg_scaled = 0\n",
    "    avg_pca = 0\n",
    "    avg_scaled_and_pca = 0\n",
    "    avg_pca_and_scaled = 0\n",
    "    while (count < target):\n",
    "        _, acc = iris_NN_classifier(features_df, target_df)\n",
    "        _, acc1 = iris_NN_classifier(features_scaled_df, target_df)\n",
    "        _, acc2 = iris_NN_classifier(features_pca_df, target_df)\n",
    "        _, acc3 = iris_NN_classifier(features_scaled_PCA_df, target_df)\n",
    "        _, acc4 = iris_NN_classifier(features_scaled_PCA_df, target_df)\n",
    "        avg_ori  = avg_ori + acc/target\n",
    "        avg_scaled = avg_scaled + acc1/target\n",
    "        avg_pca = avg_pca + acc2/target\n",
    "        avg_scaled_and_pca = avg_scaled_and_pca + acc3/target\n",
    "        avg_pca_and_scaled = avg_pca_and_scaled + acc4/target\n",
    "        count = count + 1\n",
    "    \n",
    "    print(avg_ori, avg_scaled, avg_pca, avg_scaled_and_pca, avg_pca_and_scaled)"
   ]
  }
 ],
 "metadata": {
  "kernelspec": {
   "display_name": "Python 3 (ipykernel)",
   "language": "python",
   "name": "python3"
  },
  "language_info": {
   "codemirror_mode": {
    "name": "ipython",
    "version": 3
   },
   "file_extension": ".py",
   "mimetype": "text/x-python",
   "name": "python",
   "nbconvert_exporter": "python",
   "pygments_lexer": "ipython3",
   "version": "3.9.12"
  }
 },
 "nbformat": 4,
 "nbformat_minor": 5
}
