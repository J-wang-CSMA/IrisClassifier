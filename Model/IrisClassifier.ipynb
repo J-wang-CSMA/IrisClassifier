{
 "cells": [
  {
   "cell_type": "code",
   "execution_count": 101,
   "id": "67fb4111",
   "metadata": {},
   "outputs": [],
   "source": [
    "import numpy as np\n",
    "import os\n",
    "import pandas as pd\n",
    "import sklearn.model_selection as skmc\n",
    "import sklearn.svm as svm\n",
    "import sklearn.metrics as skmet\n",
    "from sklearn.svm import SVC\n",
    "from sklearn.preprocessing import StandardScaler\n",
    "from sklearn.decomposition import PCA\n",
    "from sklearn.tree import DecisionTreeClassifier"
   ]
  },
  {
   "cell_type": "code",
   "execution_count": 88,
   "metadata": {},
   "outputs": [],
   "source": [
    "directory = os.path.dirname(os.getcwd())\n",
    "iris_path = os.path.join(directory, 'Data/iris.data')\n",
    "iris_df = pd.read_csv(iris_path)\n",
    "features_df = iris_df.values[:, :-1]\n",
    "target_df = iris_df.values[:, -1:]"
   ]
  },
  {
   "cell_type": "code",
   "execution_count": 89,
   "metadata": {},
   "outputs": [
    {
     "data": {
      "text/plain": [
       "{'Iris-setosa': 49, 'Iris-versicolor': 50, 'Iris-virginica': 50}"
      ]
     },
     "metadata": {},
     "output_type": "display_data"
    }
   ],
   "source": [
    "classes, counts = np.unique(target_df, return_counts = True)\n",
    "distribution_of_classes = dict(zip(classes, counts))\n",
    "display(distribution_of_classes)"
   ]
  },
  {
   "cell_type": "code",
   "execution_count": 90,
   "metadata": {},
   "outputs": [
    {
     "data": {
      "text/plain": [
       "1.0"
      ]
     },
     "metadata": {},
     "output_type": "display_data"
    }
   ],
   "source": [
    "def iris_gaussian_classifier(X, y):\n",
    "    X_train, X_test, y_train, y_test = skmc.train_test_split(X, y, test_size = 0.2)\n",
    "    iris_classifier = SVC(kernel = 'rbf')\n",
    "    iris_classifier.fit(X_train, y_train.ravel())\n",
    "    prediction = iris_classifier.predict(X_test)\n",
    "    accuracy = skmet.accuracy_score(y_test, prediction)\n",
    "    return prediction, accuracy\n",
    "\n",
    "predictions, acc = iris_gaussian_classifier(features_df, target_df)\n",
    "display(acc)"
   ]
  },
  {
   "cell_type": "code",
   "execution_count": 106,
   "metadata": {},
   "outputs": [
    {
     "data": {
      "text/plain": [
       "0.9666666666666667"
      ]
     },
     "metadata": {},
     "output_type": "display_data"
    }
   ],
   "source": [
    "def iris_decision_tree_classifier(X,y):\n",
    "    X_train, X_test, y_train, y_test = skmc.train_test_split(X, y, test_size = 0.2)\n",
    "    classifier = DecisionTreeClassifier()\n",
    "    classifier.fit(X_train, y_train)\n",
    "    prediction = classifier.predict(X_test)\n",
    "    accuracy = skmet.accuracy_score(y_test, prediction)\n",
    "    return prediction, accuracy\n",
    "\n",
    "_, acc = iris_decision_tree_classifier(features_df, target_df)\n",
    "display(acc)"
   ]
  },
  {
   "cell_type": "code",
   "execution_count": 126,
   "metadata": {},
   "outputs": [],
   "source": [
    "#Data manipulation\n",
    "scalar = StandardScaler()\n",
    "pca = PCA()\n",
    "features_scaled = scalar.fit_transform(features_df)\n",
    "features_PCA = pca.fit_transform(features_df)\n",
    "features_scaled_PCA = pca.fit_transform(features_scaled)\n",
    "features_pca_scaled = scalar.fit_transform(features_PCA)\n",
    "features_scaled_df = pd.DataFrame(features_scaled)\n",
    "features_pca_df = pd.DataFrame(features_PCA)\n",
    "features_scaled_PCA_df = pd.DataFrame(features_scaled_PCA)\n",
    "features_PCA_scaled_df = pd.DataFrame(features_pca_scaled)"
   ]
  },
  {
   "cell_type": "code",
   "execution_count": 127,
   "metadata": {},
   "outputs": [
    {
     "name": "stdout",
     "output_type": "stream",
     "text": [
      "0.9602333333333378 0.9604333333333378 0.9707333333333369 0.9601666666666712 0.9602666666666713\n",
      "0.946633333333339 0.9450000000000058 0.9390666666666727 0.92883333333334 0.927700000000007\n"
     ]
    }
   ],
   "source": [
    "def repeated_testing_tree(target):\n",
    "    count = 0\n",
    "    avg_ori = 0\n",
    "    avg_scaled = 0\n",
    "    avg_pca = 0\n",
    "    avg_scaled_and_pca = 0\n",
    "    avg_pca_and_scaled = 0\n",
    "    while (count < target):\n",
    "        _, acc = iris_decision_tree_classifier(features_df, target_df)\n",
    "        _, acc1 = iris_decision_tree_classifier(features_scaled_df, target_df)\n",
    "        _, acc2 = iris_decision_tree_classifier(features_pca_df, target_df)\n",
    "        _, acc3 = iris_decision_tree_classifier(features_scaled_PCA_df, target_df)\n",
    "        _, acc4 = iris_decision_tree_classifier(features_scaled_PCA_df, target_df)\n",
    "        avg_ori  = avg_ori + acc/target\n",
    "        avg_scaled = avg_scaled + acc1/target\n",
    "        avg_pca = avg_pca + acc2/target\n",
    "        avg_scaled_and_pca = avg_scaled_and_pca + acc3/target\n",
    "        avg_pca_and_scaled = avg_pca_and_scaled + acc4/target\n",
    "        count = count + 1\n",
    "    \n",
    "    print(avg_ori, avg_scaled, avg_pca, avg_scaled_and_pca, avg_pca_and_scaled)\n",
    "\n",
    "def repeated_testing_gaussian(target):\n",
    "    count = 0\n",
    "    avg_ori = 0\n",
    "    avg_scaled = 0\n",
    "    avg_pca = 0\n",
    "    avg_scaled_and_pca = 0\n",
    "    avg_pca_and_scaled = 0\n",
    "    while (count < target):\n",
    "        _, acc = iris_gaussian_classifier(features_df, target_df)\n",
    "        _, acc1 = iris_gaussian_classifier(features_scaled_df, target_df)\n",
    "        _, acc2 = iris_gaussian_classifier(features_pca_df, target_df)\n",
    "        _, acc3 = iris_gaussian_classifier(features_scaled_PCA_df, target_df)\n",
    "        _, acc4 = iris_gaussian_classifier(features_scaled_PCA_df, target_df)\n",
    "        avg_ori  = avg_ori + acc/target\n",
    "        avg_scaled = avg_scaled + acc1/target\n",
    "        avg_pca = avg_pca + acc2/target\n",
    "        avg_scaled_and_pca = avg_scaled_and_pca + acc3/target\n",
    "        avg_pca_and_scaled = avg_pca_and_scaled + acc4/target\n",
    "        count = count + 1\n",
    "    \n",
    "    print(avg_ori, avg_scaled, avg_pca, avg_scaled_and_pca, avg_pca_and_scaled)\n",
    "\n",
    "repeated_testing_gaussian(1000)\n",
    "repeated_testing_tree(1000)"
   ]
  },
  {
   "cell_type": "code",
   "execution_count": null,
   "metadata": {},
   "outputs": [],
   "source": []
  }
 ],
 "metadata": {
  "kernelspec": {
   "display_name": "Python 3 (ipykernel)",
   "language": "python",
   "name": "python3"
  },
  "language_info": {
   "codemirror_mode": {
    "name": "ipython",
    "version": 3
   },
   "file_extension": ".py",
   "mimetype": "text/x-python",
   "name": "python",
   "nbconvert_exporter": "python",
   "pygments_lexer": "ipython3",
   "version": "3.9.12"
  }
 },
 "nbformat": 4,
 "nbformat_minor": 5
}
